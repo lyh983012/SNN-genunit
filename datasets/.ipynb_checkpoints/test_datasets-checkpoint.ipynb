{
 "cells": [
  {
   "cell_type": "code",
   "execution_count": 11,
   "metadata": {},
   "outputs": [
    {
     "ename": "TypeError",
     "evalue": "'AxesSubplot' object does not support indexing",
     "output_type": "error",
     "traceback": [
      "\u001b[0;31m---------------------------------------------------------------------------\u001b[0m",
      "\u001b[0;31mTypeError\u001b[0m                                 Traceback (most recent call last)",
      "\u001b[0;32m<ipython-input-11-af65847ea6ca>\u001b[0m in \u001b[0;36m<module>\u001b[0;34m\u001b[0m\n\u001b[1;32m     86\u001b[0m \u001b[0mtest_dataset\u001b[0m \u001b[0;34m=\u001b[0m \u001b[0mESImagenet_Dataset\u001b[0m\u001b[0;34m(\u001b[0m\u001b[0mmode\u001b[0m\u001b[0;34m=\u001b[0m\u001b[0;34m'train'\u001b[0m\u001b[0;34m)\u001b[0m\u001b[0;34m\u001b[0m\u001b[0;34m\u001b[0m\u001b[0m\n\u001b[1;32m     87\u001b[0m \u001b[0;32mfor\u001b[0m \u001b[0mdata\u001b[0m\u001b[0;34m,\u001b[0m\u001b[0mlabel\u001b[0m \u001b[0;32min\u001b[0m \u001b[0mtest_dataset\u001b[0m\u001b[0;34m:\u001b[0m\u001b[0;34m\u001b[0m\u001b[0;34m\u001b[0m\u001b[0m\n\u001b[0;32m---> 88\u001b[0;31m     \u001b[0maxes\u001b[0m\u001b[0;34m[\u001b[0m\u001b[0;36m0\u001b[0m\u001b[0;34m]\u001b[0m\u001b[0;34m[\u001b[0m\u001b[0;36m0\u001b[0m\u001b[0;34m]\u001b[0m\u001b[0;34m.\u001b[0m\u001b[0mimshow\u001b[0m\u001b[0;34m(\u001b[0m\u001b[0mdata\u001b[0m\u001b[0;34m[\u001b[0m\u001b[0;36m0\u001b[0m\u001b[0;34m]\u001b[0m\u001b[0;34m.\u001b[0m\u001b[0mpermute\u001b[0m\u001b[0;34m(\u001b[0m\u001b[0;36m1\u001b[0m\u001b[0;34m,\u001b[0m\u001b[0;36m2\u001b[0m\u001b[0;34m,\u001b[0m\u001b[0;36m0\u001b[0m\u001b[0;34m)\u001b[0m\u001b[0;34m)\u001b[0m\u001b[0;34m\u001b[0m\u001b[0;34m\u001b[0m\u001b[0m\n\u001b[0m",
      "\u001b[0;31mTypeError\u001b[0m: 'AxesSubplot' object does not support indexing"
     ]
    },
    {
     "data": {
      "image/png": "[encoded data removed]",
      "text/plain": [
       "<Figure size 432x288 with 1 Axes>"
      ]
     },
     "metadata": {
      "needs_background": "light"
     },
     "output_type": "display_data"
    }
   ],
   "source": [
    "import numpy as np\n",
    "import torch\n",
    "import linecache\n",
    "import torch.utils.data as data\n",
    "\n",
    "class ESImagenet_Dataset(data.Dataset):\n",
    "    def __init__(self, mode, data_set_path='/data/ES-imagenet-0.18/'):\n",
    "        super().__init__()\n",
    "        self.mode = mode\n",
    "        self.filenames = []\n",
    "        self.trainpath = data_set_path+'train'\n",
    "        self.testpath = data_set_path+'val'\n",
    "        self.traininfotxt = data_set_path+'trainlabel.txt'\n",
    "        self.testinfotxt = data_set_path+'vallabel.txt'\n",
    "        self.formats = '.npz'\n",
    "        if mode == 'train':\n",
    "            self.path = self.trainpath\n",
    "            trainfile = open(self.traininfotxt, 'r')\n",
    "            for line in trainfile:\n",
    "                filename, classnum, a, b = line.split()\n",
    "                realname,sub = filename.split('.')\n",
    "                self.filenames.append(realname+self.formats)\n",
    "        else:\n",
    "            self.path = self.testpath\n",
    "            testfile = open(self.testinfotxt, 'r')\n",
    "            for line in testfile:\n",
    "                filename, classnum, a, b = line.split()\n",
    "                realname,sub = filename.split('.')\n",
    "                self.filenames.append(realname+self.formats)\n",
    "\n",
    "    def __getitem__(self, index):\n",
    "        if self.mode == 'train':\n",
    "            info = linecache.getline(self.traininfotxt, index+1)\n",
    "        else:\n",
    "            info = linecache.getline(self.testinfotxt, index+1)\n",
    "        filename, classnum, a, b = info.split()\n",
    "        realname,sub = filename.split('.')\n",
    "        filename = realname+self.formats\n",
    "        filename = self.path + r'/' + filename\n",
    "        classnum = int(classnum)\n",
    "        a = int(a)\n",
    "        b = int(b)\n",
    "        datapos = np.load(filename)['pos'].astype(np.float64)\n",
    "        dataneg = np.load(filename)['neg'].astype(np.float64)\n",
    "\n",
    "        tracex = [0,2,1,0,2,1,1,2]\n",
    "        tracey = [2,1,0,1,2,0,1,1]\n",
    "\n",
    "        dy = (254 - b) // 2\n",
    "        dx = (254 - a) // 2\n",
    "        input = torch.zeros([ 2, 8,256, 256])\n",
    "        \n",
    "\n",
    "        x = datapos[:,0]+ dx\n",
    "        y = datapos[:,1]+ dy\n",
    "        t = datapos[:,2]-1\n",
    "        input[0,t ,x ,y ] += 1\n",
    "        \n",
    "        x = dataneg[:,0]+ dx\n",
    "        y = dataneg[:,1]+ dy\n",
    "        t = dataneg[:,2]-1\n",
    "        input[1,t,x ,y ] -= 1\n",
    "        \n",
    "        \n",
    "        sum_gary_data = torch.zeros([1, 256, 256])\n",
    "        reshape = input[:,:,16:240,16:240]\n",
    "        H=224\n",
    "        W=224\n",
    "        for t in range(8):\n",
    "            dx = tracex[t]\n",
    "            dy = tracey[t]\n",
    "            sum_gary_data[0,2-dx:2-dx+H,2-dy:2-dy+W] += reshape[0,t,:,:] \n",
    "            sum_gary_data[0,2-dx:2-dx+H,2-dy:2-dy+W] -= reshape[1,t,:,:]\n",
    "            \n",
    "        sum_gary_data = sum_gary_data[:,1:225,1:225]\n",
    "        label = torch.tensor([classnum])\n",
    "        return sum_gary_data, label\n",
    "\n",
    "    def __len__(self):\n",
    "        return len(self.filenames)\n",
    "    \n",
    "import matplotlib.pyplot as plt\n",
    "\n",
    "fig, axes = plt.subplots(1,1)\n",
    "\n",
    "test_dataset = ESImagenet_Dataset(mode='train')\n",
    "for data,label in test_dataset:\n",
    "    axes[0][0].imshow(data[0].permute(1,2,0))"
   ]
  },
  {
   "cell_type": "code",
   "execution_count": null,
   "metadata": {},
   "outputs": [],
   "source": []
  }
 ],
 "metadata": {
  "kernelspec": {
   "display_name": "Python [conda env:pytorch] *",
   "language": "python",
   "name": "conda-env-pytorch-py"
  },
  "language_info": {
   "codemirror_mode": {
    "name": "ipython",
    "version": 3
   },
   "file_extension": ".py",
   "mimetype": "text/x-python",
   "name": "python",
   "nbconvert_exporter": "python",
   "pygments_lexer": "ipython3",
   "version": "3.6.12"
  }
 },
 "nbformat": 4,
 "nbformat_minor": 4
}
